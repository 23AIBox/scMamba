{
 "cells": [
  {
   "cell_type": "code",
   "execution_count": 1,
   "metadata": {},
   "outputs": [],
   "source": [
    "import cupy as cp\n",
    "import scanpy as sc\n",
    "import pandas as pd\n",
    "import numpy as np"
   ]
  },
  {
   "cell_type": "code",
   "execution_count": 2,
   "metadata": {},
   "outputs": [],
   "source": [
    "def silhouette_samples_cuda(X, labels, device_id=0, chunk_size=1000):\n",
    "    # 将数据转移到指定的GPU上，使用float32以减少显存\n",
    "    with cp.cuda.Device(device_id):\n",
    "        X_gpu = cp.asarray(X, dtype=cp.float32)\n",
    "        labels_gpu = cp.asarray(labels)\n",
    "\n",
    "        # 获取数据点的数量\n",
    "        n_samples = X.shape[0]\n",
    "        \n",
    "        # 初始化 a(i) 和 b(i)\n",
    "        a = cp.zeros(n_samples, dtype=cp.float32)\n",
    "        b = cp.zeros(n_samples, dtype=cp.float32)\n",
    "\n",
    "        # 获取所有唯一的标签\n",
    "        unique_labels = cp.unique(labels_gpu)\n",
    "\n",
    "        # 分块计算距离矩阵\n",
    "        for i in range(0, n_samples, chunk_size):\n",
    "            end_i = min(i + chunk_size, n_samples)\n",
    "\n",
    "            # 计算块内的距离矩阵\n",
    "            distance_matrix_chunk = cp.linalg.norm(X_gpu[i:end_i, None] - X_gpu, axis=2)\n",
    "\n",
    "            # 逐个计算每个样本点的 a(i) 和 b(i)\n",
    "            for j in range(end_i - i):\n",
    "                current_label = labels_gpu[i + j]\n",
    "                \n",
    "                # 计算 a(i): 簇内距离平均值\n",
    "                same_cluster_mask = (labels_gpu == current_label)\n",
    "                same_cluster_distances = distance_matrix_chunk[j, same_cluster_mask]\n",
    "                if cp.sum(same_cluster_mask) > 1:\n",
    "                    a[i + j] = cp.sum(same_cluster_distances) / (cp.sum(same_cluster_mask) - 1)\n",
    "                else:\n",
    "                    a[i + j] = 0\n",
    "\n",
    "                # 计算 b(i): 最近簇距离平均值\n",
    "                b[i + j] = cp.inf\n",
    "                for label in unique_labels:\n",
    "                    if label != current_label:\n",
    "                        other_cluster_mask = (labels_gpu == label)\n",
    "                        other_cluster_distances = distance_matrix_chunk[j, other_cluster_mask]\n",
    "                        if other_cluster_distances.size > 0:\n",
    "                            b[i + j] = cp.minimum(b[i + j], cp.mean(other_cluster_distances))\n",
    "\n",
    "        # 计算轮廓系数 s(i)\n",
    "        s = (b - a) / cp.maximum(a, b)\n",
    "        return s\n",
    "\n",
    "def F1_silhouette(embeds, cell_type, omics, device_id=0, chunk_size=1000):\n",
    "    # 将cell_type和omics转换为分类数据并转换为整数编码\n",
    "    cell_type_encoded = pd.Categorical(cell_type).codes\n",
    "    omics_encoded = pd.Categorical(omics).codes\n",
    "\n",
    "    # 使用指定的GPU设备进行计算\n",
    "    with cp.cuda.Device(device_id):\n",
    "        # 确保数据在GPU上\n",
    "        embeds_gpu = cp.asarray(embeds, dtype=cp.float32)\n",
    "        cell_type_gpu = cp.asarray(cell_type_encoded)\n",
    "        omics_gpu = cp.asarray(omics_encoded)\n",
    "        \n",
    "        # 计算每种标记的轮廓系数，使用分块\n",
    "        s_ct = silhouette_samples_cuda(embeds_gpu, cell_type_gpu, device_id, chunk_size)\n",
    "        s_omics = silhouette_samples_cuda(embeds_gpu, omics_gpu, device_id, chunk_size)\n",
    "        \n",
    "        # 归一化轮廓系数\n",
    "        s_ct1 = (s_ct + 1) / 2\n",
    "        s_omics1 = (s_omics + 1) / 2\n",
    "        \n",
    "        # 计算F1_silhouette\n",
    "        F1_sil = 2 * ((1 - s_omics1) * s_ct1) / (1 - s_omics1 + s_ct1)\n",
    "    return F1_sil"
   ]
  },
  {
   "cell_type": "code",
   "execution_count": 4,
   "metadata": {},
   "outputs": [],
   "source": [
    "datasets = ['genes_PBMC10k75', 'genes_PBMC10k50', 'genes_PBMC10k25', 'PBMC10k', 'peaks_PBMC10k25', 'peaks_PBMC10k50', 'peaks_PBMC10k75']\n",
    "methods = ['scMamba2']\n",
    "for method in methods:\n",
    "    F1_sil_all = []\n",
    "    for dataset in datasets:\n",
    "        path = f\"../results/robustness_analysis/{dataset}batchsize256projection_dim50\"\n",
    "        adata = sc.read_h5ad(f\"{path}/concat.h5ad\")\n",
    "        # 指定GPU ID，例如将计算放在设备ID为1的GPU上\n",
    "        device_id = 6\n",
    "        chunk_size = 100000  # 设置分块大小，视显存情况调整\n",
    "        F1_sil_cuda = F1_silhouette(\n",
    "            adata.obsm['X_umap'], \n",
    "            adata.obs['cell_type'].values, \n",
    "            adata.obs['modality'].values, \n",
    "            device_id, \n",
    "            chunk_size\n",
    "        )\n",
    "        # 将结果从GPU转移到CPU进行打印\n",
    "        F1_sil_cuda_cpu = cp.asnumpy(F1_sil_cuda)\n",
    "        F1_sil_all.append(F1_sil_cuda_cpu)\n",
    "    F1_sil_all = np.column_stack(F1_sil_all)\n",
    "    np.save(f\"{method}_F1_sil_PBMC10k.npy\", F1_sil_all)"
   ]
  },
  {
   "cell_type": "code",
   "execution_count": null,
   "metadata": {},
   "outputs": [],
   "source": [
    "datasets = ['AD', 'AD25', 'AD50', 'AD75']\n",
    "methods = ['scCLIP', 'GLUE', 'CVQVAE']\n",
    "for method in methods:\n",
    "    F1_sil_all = []\n",
    "    for dataset in datasets:\n",
    "        path = f\"{method}/{dataset}\"\n",
    "        adata = sc.read_h5ad(f\"{path}/concat.h5ad\")\n",
    "        # 指定GPU ID，例如将计算放在设备ID为1的GPU上\n",
    "        device_id = 1\n",
    "        chunk_size = 100  # 设置分块大小，视显存情况调整\n",
    "        F1_sil_cuda = F1_silhouette(\n",
    "            adata.obsm['X_umap'], \n",
    "            adata.obs['cell_type'].values, \n",
    "            adata.obs['modality'].values, \n",
    "            device_id, \n",
    "            chunk_size\n",
    "        )\n",
    "        # 将结果从GPU转移到CPU进行打印\n",
    "        F1_sil_cuda_cpu = cp.asnumpy(F1_sil_cuda)\n",
    "        F1_sil_all.append(F1_sil_cuda_cpu)\n",
    "    F1_sil_all = np.column_stack(F1_sil_all)\n",
    "    np.save(f\"{method}_F1_sil.npy\", F1_sil_all)"
   ]
  },
  {
   "cell_type": "code",
   "execution_count": null,
   "metadata": {},
   "outputs": [],
   "source": [
    "datasets = ['genes_AD75', 'genes_AD50', 'genes_AD25', 'AD', 'peaks_AD25', 'peaks_AD50', 'peaks_AD75']\n",
    "methods = ['scMamba']\n",
    "for method in methods:\n",
    "    F1_sil_all = []\n",
    "    for dataset in datasets:\n",
    "        path = f\"{method}/{dataset}\"\n",
    "        adata = sc.read_h5ad(f\"{path}/concat.h5ad\")\n",
    "        # 指定GPU ID，例如将计算放在设备ID为1的GPU上\n",
    "        device_id = 4\n",
    "        chunk_size = 100  # 设置分块大小，视显存情况调整\n",
    "        F1_sil_cuda = F1_silhouette(\n",
    "            adata.obsm['X_umap'], \n",
    "            adata.obs['cell_type'].values, \n",
    "            adata.obs['modality'].values, \n",
    "            device_id, \n",
    "            chunk_size\n",
    "        )\n",
    "        # 将结果从GPU转移到CPU进行打印\n",
    "        F1_sil_cuda_cpu = cp.asnumpy(F1_sil_cuda)\n",
    "        F1_sil_all.append(F1_sil_cuda_cpu)\n",
    "    F1_sil_all = np.column_stack(F1_sil_all)\n",
    "    np.save(f\"{method}_F1_sil.npy\", F1_sil_all)"
   ]
  },
  {
   "cell_type": "code",
   "execution_count": null,
   "metadata": {},
   "outputs": [],
   "source": [
    "for _ in F1_sil_all:\n",
    "    print(_.shape)"
   ]
  },
  {
   "cell_type": "code",
   "execution_count": 3,
   "metadata": {},
   "outputs": [],
   "source": [
    "# 加载数据\n",
    "dataset = \"AD\"\n",
    "out_dir = f\"scCLIP/{dataset}\"\n",
    "adata = sc.read_h5ad(f\"{out_dir}/concat.h5ad\")"
   ]
  },
  {
   "cell_type": "code",
   "execution_count": null,
   "metadata": {},
   "outputs": [],
   "source": [
    "# 指定GPU ID，例如将计算放在设备ID为1的GPU上\n",
    "device_id = 1\n",
    "chunk_size = 100  # 设置分块大小，视显存情况调整\n",
    "F1_sil_cuda = F1_silhouette(adata.X, adata.obs['cell_type'].values, adata.obs['modality'].values, device_id, chunk_size)\n",
    "\n",
    "# 将结果从GPU转移到CPU进行打印\n",
    "F1_sil_cuda_cpu = cp.asnumpy(F1_sil_cuda)\n",
    "print(F1_sil_cuda_cpu)"
   ]
  },
  {
   "cell_type": "code",
   "execution_count": null,
   "metadata": {},
   "outputs": [],
   "source": [
    "F1_sil_cpu = np.load(\"F1_sil_cpu.npy\")\n",
    "F1_sil_cpu"
   ]
  },
  {
   "cell_type": "code",
   "execution_count": null,
   "metadata": {},
   "outputs": [],
   "source": [
    "F1_sil_cuda = np.load(\"F1_sil_cuda.npy\")\n",
    "F1_sil_cuda"
   ]
  },
  {
   "cell_type": "code",
   "execution_count": null,
   "metadata": {},
   "outputs": [],
   "source": [
    "import matplotlib.pyplot as plt\n",
    "import seaborn as sns\n",
    "\n",
    "\n",
    "# 准备数据框架\n",
    "data = {'Values': np.concatenate([F1_sil_cuda, F1_sil_cpu]),\n",
    "        'Category': ['Data 1'] * len(F1_sil_cuda) + ['Data 2'] * len(F1_sil_cpu)}\n",
    "\n",
    "# 使用 Seaborn 绘制箱线图\n",
    "sns.boxplot(x='Category', y='Values', data=data)\n",
    "\n",
    "# 设置标题和标签\n",
    "plt.title('Boxplot of Two Datasets with Seaborn')\n",
    "plt.ylabel('Values')\n",
    "\n",
    "# 显示图形\n",
    "plt.show()\n"
   ]
  },
  {
   "cell_type": "code",
   "execution_count": null,
   "metadata": {},
   "outputs": [],
   "source": []
  }
 ],
 "metadata": {
  "kernelspec": {
   "display_name": "mamba",
   "language": "python",
   "name": "python3"
  },
  "language_info": {
   "codemirror_mode": {
    "name": "ipython",
    "version": 3
   },
   "file_extension": ".py",
   "mimetype": "text/x-python",
   "name": "python",
   "nbconvert_exporter": "python",
   "pygments_lexer": "ipython3",
   "version": "3.10.15"
  }
 },
 "nbformat": 4,
 "nbformat_minor": 2
}
