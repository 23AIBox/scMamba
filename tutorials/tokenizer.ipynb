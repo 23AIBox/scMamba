{
 "cells": [
  {
   "cell_type": "code",
   "execution_count": 36,
   "metadata": {},
   "outputs": [],
   "source": [
    "import os\n",
    "import scanpy as sc\n",
    "import muon as mu \n",
    "from anndata import AnnData\n",
    "from typing import Callable, List, Mapping, Optional\n",
    "import scglue"
   ]
  },
  {
   "cell_type": "code",
   "execution_count": 37,
   "metadata": {},
   "outputs": [
    {
     "data": {
      "text/html": [
       "<pre>MuData object with n_obs × n_vars = 13383 × 105458\n",
       "  obs:\t&#x27;batch&#x27;, &#x27;cell_type&#x27;\n",
       "  2 modalities\n",
       "    rna:\t13383 x 36495\n",
       "      obs:\t&#x27;batch&#x27;, &#x27;cell_type&#x27;\n",
       "    atac:\t13383 x 68963\n",
       "      obs:\t&#x27;batch&#x27;, &#x27;cell_type&#x27;</pre>"
      ],
      "text/plain": [
       "MuData object with n_obs × n_vars = 13383 × 105458\n",
       "  obs:\t'batch', 'cell_type'\n",
       "  2 modalities\n",
       "    rna:\t13383 x 36495\n",
       "      obs:\t'batch', 'cell_type'\n",
       "    atac:\t13383 x 68963\n",
       "      obs:\t'batch', 'cell_type'"
      ]
     },
     "execution_count": 37,
     "metadata": {},
     "output_type": "execute_result"
    }
   ],
   "source": [
    "data_dir = \"../datasets/multiome/\"\n",
    "dataset = \"DOGMAseq_human_pbmcs.h5mu\"\n",
    "# dataset = \"PBMC10k.h5mu\"\n",
    "# dataset = \"multiome_BMMC.h5mu\"\n",
    "mdata = mu.read_h5mu(os.path.join(data_dir, dataset))\n",
    "mdata"
   ]
  },
  {
   "cell_type": "code",
   "execution_count": 38,
   "metadata": {},
   "outputs": [
    {
     "data": {
      "text/plain": [
       "AnnData object with n_obs × n_vars = 13383 × 22560\n",
       "    obs: 'batch', 'cell_type'\n",
       "    var: 'chrom', 'chromStart', 'chromEnd'"
      ]
     },
     "execution_count": 38,
     "metadata": {},
     "output_type": "execute_result"
    }
   ],
   "source": [
    "if 'interval' not in mdata.mod['rna'].var.columns:\n",
    "    gene_location = mdata.mod['rna'].copy()\n",
    "    scglue.data.get_gene_annotation(\n",
    "        gene_location, gtf=\"../datasets/GTFFiles/gencode.v47.basic.annotation.gtf.gz\",\n",
    "        gtf_by=\"gene_name\"\n",
    "    )\n",
    "    rna = mdata.mod['rna'].copy()\n",
    "    rna.var.index.name = \"genes\"\n",
    "    rna.var['chrom'] = gene_location.var['chrom']\n",
    "    rna.var['chromStart'] = gene_location.var['chromStart']\n",
    "    rna.var['chromEnd'] = gene_location.var['chromEnd']\n",
    "    rna = rna[:, rna.var['chromStart'].notnull()]\n",
    "    rna = rna[:, rna.var['chrom'].str.match(r'^chr([1-9]|1[0-9]|2[0-1]|X|Y)$')].copy()\n",
    "    rna.var['chromStart'] = rna.var['chromStart'].astype(int)\n",
    "    rna.var['chromEnd'] = rna.var['chromEnd'].astype(int)\n",
    "    rna.var.sort_values(by=['chrom', 'chromStart', 'chromEnd'], inplace=True)\n",
    "    rna.var\n",
    "else:\n",
    "    rna = mdata.mod['rna'].copy()\n",
    "    rna.var.index.name = \"genes\"\n",
    "    rna.var['chrom'], rna.var['chromStart'], rna.var['chromEnd'] = None, None, None\n",
    "    rna.var[[\"chrom\", \"chromStart\", \"chromEnd\"]] = rna.var['interval'].str.split(r\"[:-]\", expand=True)\n",
    "    rna = rna[:, rna.var['chrom'].str.contains('chr')]\n",
    "    rna.var['chromStart'] = rna.var['chromStart'].astype(int)\n",
    "    rna.var['chromEnd'] = rna.var['chromEnd'].astype(int)\n",
    "    rna.var.sort_values(by=['chrom', 'chromStart', 'chromEnd'], inplace=True)\n",
    "rna"
   ]
  },
  {
   "cell_type": "code",
   "execution_count": 39,
   "metadata": {},
   "outputs": [
    {
     "data": {
      "text/plain": [
       "AnnData object with n_obs × n_vars = 13383 × 68963\n",
       "    obs: 'batch', 'cell_type'\n",
       "    var: 'chrom', 'chromStart', 'chromEnd'"
      ]
     },
     "execution_count": 39,
     "metadata": {},
     "output_type": "execute_result"
    }
   ],
   "source": [
    "atac = mdata.mod['atac'].copy()\n",
    "atac.var.index.name = \"peaks\"\n",
    "split = atac.var_names.str.split(r\"[:-]\")\n",
    "atac.var[\"chrom\"] = split.map(lambda x: x[0])\n",
    "atac.var[\"chromStart\"] = split.map(lambda x: x[1]).astype(int)\n",
    "atac.var[\"chromEnd\"] = split.map(lambda x: x[2]).astype(int)\n",
    "\n",
    "atac = atac[:, atac.var['chrom'].str.contains('chr')].copy()\n",
    "atac.var.sort_values(by=['chrom', 'chromStart', 'chromEnd'], inplace=True)\n",
    "atac"
   ]
  },
  {
   "cell_type": "code",
   "execution_count": 40,
   "metadata": {},
   "outputs": [
    {
     "data": {
      "text/html": [
       "<pre>MuData object with n_obs × n_vars = 13383 × 91523\n",
       "  var:\t&#x27;chrom&#x27;, &#x27;chromStart&#x27;, &#x27;chromEnd&#x27;\n",
       "  2 modalities\n",
       "    rna:\t13383 x 22560\n",
       "      obs:\t&#x27;batch&#x27;, &#x27;cell_type&#x27;\n",
       "      var:\t&#x27;chrom&#x27;, &#x27;chromStart&#x27;, &#x27;chromEnd&#x27;\n",
       "    atac:\t13383 x 68963\n",
       "      obs:\t&#x27;batch&#x27;, &#x27;cell_type&#x27;\n",
       "      var:\t&#x27;chrom&#x27;, &#x27;chromStart&#x27;, &#x27;chromEnd&#x27;</pre>"
      ],
      "text/plain": [
       "MuData object with n_obs × n_vars = 13383 × 91523\n",
       "  var:\t'chrom', 'chromStart', 'chromEnd'\n",
       "  2 modalities\n",
       "    rna:\t13383 x 22560\n",
       "      obs:\t'batch', 'cell_type'\n",
       "      var:\t'chrom', 'chromStart', 'chromEnd'\n",
       "    atac:\t13383 x 68963\n",
       "      obs:\t'batch', 'cell_type'\n",
       "      var:\t'chrom', 'chromStart', 'chromEnd'"
      ]
     },
     "execution_count": 40,
     "metadata": {},
     "output_type": "execute_result"
    }
   ],
   "source": [
    "mdata = mu.MuData({\n",
    "    'rna': rna,\n",
    "    'atac': atac\n",
    "})\n",
    "mdata"
   ]
  },
  {
   "cell_type": "code",
   "execution_count": 41,
   "metadata": {},
   "outputs": [],
   "source": [
    "mdata.obs['cell_type'] = mdata.mod['rna'].obs['cell_type']\n",
    "\n",
    "if 'batch' in mdata.mod['rna'].obs.columns:\n",
    "    mdata.obs['batch'] = mdata.mod['rna'].obs['batch']"
   ]
  },
  {
   "cell_type": "code",
   "execution_count": 42,
   "metadata": {},
   "outputs": [],
   "source": [
    "mdata.write_h5mu(os.path.join(data_dir, dataset.split(\".\")[0] + \"_sortby_chrom.h5mu\"))"
   ]
  },
  {
   "cell_type": "code",
   "execution_count": null,
   "metadata": {},
   "outputs": [],
   "source": []
  }
 ],
 "metadata": {
  "kernelspec": {
   "display_name": "GLUE",
   "language": "python",
   "name": "python3"
  },
  "language_info": {
   "codemirror_mode": {
    "name": "ipython",
    "version": 3
   },
   "file_extension": ".py",
   "mimetype": "text/x-python",
   "name": "python",
   "nbconvert_exporter": "python",
   "pygments_lexer": "ipython3",
   "version": "3.10.13"
  }
 },
 "nbformat": 4,
 "nbformat_minor": 2
}
