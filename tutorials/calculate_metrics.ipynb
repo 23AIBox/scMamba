{
 "cells": [
  {
   "cell_type": "code",
   "execution_count": 1,
   "metadata": {},
   "outputs": [],
   "source": [
    "import sys\n",
    "sys.path.append(\"..\")\n",
    "import warnings\n",
    "warnings.filterwarnings('ignore')\n",
    "import os\n",
    "import scanpy as sc\n",
    "import pandas as pd\n",
    "\n",
    "from scmamba2 import logger\n",
    "from scmamba2.utils.metrics import biology_conservation, omics_mixing\n",
    "from scmamba2.utils.evaluation import ARI"
   ]
  },
  {
   "cell_type": "code",
   "execution_count": 2,
   "metadata": {},
   "outputs": [
    {
     "data": {
      "text/plain": [
       "AnnData object with n_obs × n_vars = 19262 × 32\n",
       "    obs: 'rna:cell_type', 'atac:cell_type', 'cell_type', 'leiden', 'modality'\n",
       "    uns: 'cell_type_colors', 'leiden', 'leiden_colors', 'modality_colors', 'neighbors', 'umap'\n",
       "    obsm: 'X_umap'\n",
       "    obsp: 'connectivities', 'distances'"
      ]
     },
     "execution_count": 2,
     "metadata": {},
     "output_type": "execute_result"
    }
   ],
   "source": [
    "concat_emb = sc.read_h5ad(\"../results/PBMC10kbatchsize256projection_dim32/concat.h5ad\")\n",
    "concat_emb"
   ]
  },
  {
   "cell_type": "code",
   "execution_count": 3,
   "metadata": {},
   "outputs": [
    {
     "name": "stdout",
     "output_type": "stream",
     "text": [
      "scMamba - INFO - Calculating omics mixing metrics...\n"
     ]
    },
    {
     "name": "stderr",
     "output_type": "stream",
     "text": [
      "/home/zyuan/.conda/envs/mamba/lib/python3.10/site-packages/anndata/_core/anndata.py:402: FutureWarning: The dtype argument is deprecated and will be removed in late 2024.\n",
      "  warnings.warn(\n",
      "/home/zyuan/code/scMamba2/scmamba2/utils/evaluation.py:298: FutureWarning: pandas.value_counts is deprecated and will be removed in a future version. Use pd.Series(obj).value_counts() instead.\n",
      "  counts = pd.value_counts(c)\n"
     ]
    },
    {
     "data": {
      "text/plain": [
       "{'omics entropy mixing score': 0.9897355481833218,\n",
       " 'Seurat alignment score (omics)': 0.9829785005174084,\n",
       " 'Graph connectivity': 0.6124171572338926,\n",
       " 'ASW_omics': 0.7810567617416382}"
      ]
     },
     "execution_count": 3,
     "metadata": {},
     "output_type": "execute_result"
    }
   ],
   "source": [
    "logger.info(\"Calculating omics mixing metrics...\")\n",
    "omics_mixing_metrics = omics_mixing(\n",
    "    concat_emb, concat_emb.obs['cell_type'].values, concat_emb.obs['modality'].values\n",
    ")\n",
    "omics_mixing_metrics"
   ]
  },
  {
   "cell_type": "code",
   "execution_count": 4,
   "metadata": {},
   "outputs": [
    {
     "name": "stdout",
     "output_type": "stream",
     "text": [
      "scMamba - INFO - Calculating biology conservation metrics...\n",
      "1.0\n"
     ]
    },
    {
     "data": {
      "text/plain": [
       "{'ARI': 0.7798572644798041,\n",
       " 'NMI': 0.7777392690075673,\n",
       " 'Mean average precision': 0.742387808962666,\n",
       " 'ASW_celltype': 0.6086784154176712}"
      ]
     },
     "execution_count": 4,
     "metadata": {},
     "output_type": "execute_result"
    }
   ],
   "source": [
    "logger.info(\"Calculating biology conservation metrics...\")\n",
    "biology_conservation_metrics, best_res= biology_conservation(\n",
    "    concat_emb, concat_emb.obs['cell_type'].values\n",
    ")\n",
    "print(best_res)\n",
    "biology_conservation_metrics"
   ]
  },
  {
   "cell_type": "code",
   "execution_count": 3,
   "metadata": {},
   "outputs": [
    {
     "name": "stdout",
     "output_type": "stream",
     "text": [
      "0.59\n",
      "0.7887402943898991\n"
     ]
    }
   ],
   "source": [
    "max_res = 0\n",
    "max_ARI = 0\n",
    "for res in range(40, 60):\n",
    "    res = res/100.0\n",
    "    sc.tl.leiden(concat_emb, resolution=res, flavor=\"igraph\", n_iterations=2)\n",
    "    ARI_score = ARI(concat_emb.obs[\"cell_type\"].values, concat_emb.obs[\"leiden\"].values)\n",
    "if ARI_score > max_ARI:\n",
    "    max_res = res\n",
    "    max_ARI = ARI_score\n",
    "print(max_res)\n",
    "print(max_ARI)"
   ]
  },
  {
   "cell_type": "code",
   "execution_count": null,
   "metadata": {},
   "outputs": [],
   "source": [
    "metrics = {}\n",
    "metrics_classified = {}\n",
    "logger.info(\"Calculating biology conservation metrics...\")\n",
    "biology_conservation_metrics, best_res= biology_conservation(\n",
    "    concat_emb, concat_emb.obs['cell_type'].values\n",
    ")\n",
    "logger.info(\"Calculating omics mixing metrics...\")\n",
    "omics_mixing_metrics = omics_mixing(\n",
    "    concat_emb, concat_emb.obs['cell_type'].values, concat_emb.obs['modality'].values\n",
    ")\n",
    "metrics_classified['biology conservation'] = biology_conservation_metrics\n",
    "metrics_classified['omics mixing'] = omics_mixing_metrics\n",
    "\n",
    "metrics.update(biology_conservation_metrics)\n",
    "metrics.update(omics_mixing_metrics)\n",
    "\n",
    "metrics['epcohs'] = 100\n",
    "metrics['best resolutioin'] = best_res\n",
    "# metrics['mean F1 silhouette'] = mean_F1_silhouette(\n",
    "#     concate_embeds.X, \n",
    "#     cell_type=concate_embeds.obs['cell_type'].values,\n",
    "#     omics=concate_embeds.obs['modality'].values,\n",
    "#     device_id=args.device,\n",
    "#     chunk_size=100000\n",
    "# )\n",
    "print(metrics)\n",
    "\n",
    "if not os.path.exists(f'{out_dir}/metrics.csv'):\n",
    "    metrics_df = pd.DataFrame([metrics])\n",
    "else:\n",
    "    metrics_df = pd.read_csv(\n",
    "        f'{out_dir}/metrics.csv' \n",
    "    )\n",
    "    new_metrics_df = pd.DataFrame([metrics])\n",
    "    metrics_df = pd.concat([metrics_df, new_metrics_df], ignore_index=True)\n",
    "metrics_df.to_csv(f'{out_dir}/metrics.csv', index=False)"
   ]
  }
 ],
 "metadata": {
  "kernelspec": {
   "display_name": "mamba",
   "language": "python",
   "name": "python3"
  },
  "language_info": {
   "codemirror_mode": {
    "name": "ipython",
    "version": 3
   },
   "file_extension": ".py",
   "mimetype": "text/x-python",
   "name": "python",
   "nbconvert_exporter": "python",
   "pygments_lexer": "ipython3",
   "version": "3.10.15"
  }
 },
 "nbformat": 4,
 "nbformat_minor": 2
}
