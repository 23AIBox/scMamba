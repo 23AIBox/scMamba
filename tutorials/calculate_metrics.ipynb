{
 "cells": [
  {
   "cell_type": "code",
   "execution_count": 1,
   "metadata": {},
   "outputs": [],
   "source": [
    "import sys\n",
    "sys.path.append(\"..\")\n",
    "import warnings\n",
    "warnings.filterwarnings('ignore')\n",
    "import os\n",
    "import scanpy as sc\n",
    "import muon as mu\n",
    "import pandas as pd\n",
    "\n",
    "from scmamba2 import logger\n",
    "from scmamba2.utils.metrics import biology_conservation, omics_mixing\n",
    "from scmamba2.utils.evaluation import ARI"
   ]
  },
  {
   "cell_type": "code",
   "execution_count": 6,
   "metadata": {},
   "outputs": [
    {
     "data": {
      "text/html": [
       "<pre>MuData object with n_obs × n_vars = 11126 × 14087\n",
       "  obs:\t&#x27;GEX_n_genes_by_counts&#x27;, &#x27;GEX_pct_counts_mt&#x27;, &#x27;GEX_size_factors&#x27;, &#x27;GEX_phase&#x27;, &#x27;ADT_n_antibodies_by_counts&#x27;, &#x27;ADT_total_counts&#x27;, &#x27;ADT_iso_count&#x27;, &#x27;cell_type&#x27;, &#x27;batch&#x27;, &#x27;ADT_pseudotime_order&#x27;, &#x27;GEX_pseudotime_order&#x27;, &#x27;Samplename&#x27;, &#x27;Site&#x27;, &#x27;DonorNumber&#x27;, &#x27;Modality&#x27;, &#x27;VendorLot&#x27;, &#x27;DonorID&#x27;, &#x27;DonorAge&#x27;, &#x27;DonorBMI&#x27;, &#x27;DonorBloodType&#x27;, &#x27;DonorRace&#x27;, &#x27;Ethnicity&#x27;, &#x27;DonorGender&#x27;, &#x27;QCMeds&#x27;, &#x27;DonorSmoker&#x27;, &#x27;is_train&#x27;\n",
       "  2 modalities\n",
       "    rna:\t11126 x 13953\n",
       "      obs:\t&#x27;GEX_n_genes_by_counts&#x27;, &#x27;GEX_pct_counts_mt&#x27;, &#x27;GEX_size_factors&#x27;, &#x27;GEX_phase&#x27;, &#x27;ADT_n_antibodies_by_counts&#x27;, &#x27;ADT_total_counts&#x27;, &#x27;ADT_iso_count&#x27;, &#x27;cell_type&#x27;, &#x27;batch&#x27;, &#x27;ADT_pseudotime_order&#x27;, &#x27;GEX_pseudotime_order&#x27;, &#x27;Samplename&#x27;, &#x27;Site&#x27;, &#x27;DonorNumber&#x27;, &#x27;Modality&#x27;, &#x27;VendorLot&#x27;, &#x27;DonorID&#x27;, &#x27;DonorAge&#x27;, &#x27;DonorBMI&#x27;, &#x27;DonorBloodType&#x27;, &#x27;DonorRace&#x27;, &#x27;Ethnicity&#x27;, &#x27;DonorGender&#x27;, &#x27;QCMeds&#x27;, &#x27;DonorSmoker&#x27;, &#x27;is_train&#x27;\n",
       "      var:\t&#x27;feature_types&#x27;, &#x27;gene_id&#x27;\n",
       "      uns:\t&#x27;dataset_id&#x27;, &#x27;genome&#x27;, &#x27;organism&#x27;\n",
       "      obsm:\t&#x27;ADT_X_pca&#x27;, &#x27;ADT_X_umap&#x27;, &#x27;ADT_isotype_controls&#x27;, &#x27;GEX_X_pca&#x27;, &#x27;GEX_X_umap&#x27;\n",
       "      layers:\t&#x27;counts&#x27;\n",
       "    adt:\t11126 x 134\n",
       "      obs:\t&#x27;GEX_n_genes_by_counts&#x27;, &#x27;GEX_pct_counts_mt&#x27;, &#x27;GEX_size_factors&#x27;, &#x27;GEX_phase&#x27;, &#x27;ADT_n_antibodies_by_counts&#x27;, &#x27;ADT_total_counts&#x27;, &#x27;ADT_iso_count&#x27;, &#x27;cell_type&#x27;, &#x27;batch&#x27;, &#x27;ADT_pseudotime_order&#x27;, &#x27;GEX_pseudotime_order&#x27;, &#x27;Samplename&#x27;, &#x27;Site&#x27;, &#x27;DonorNumber&#x27;, &#x27;Modality&#x27;, &#x27;VendorLot&#x27;, &#x27;DonorID&#x27;, &#x27;DonorAge&#x27;, &#x27;DonorBMI&#x27;, &#x27;DonorBloodType&#x27;, &#x27;DonorRace&#x27;, &#x27;Ethnicity&#x27;, &#x27;DonorGender&#x27;, &#x27;QCMeds&#x27;, &#x27;DonorSmoker&#x27;, &#x27;is_train&#x27;\n",
       "      var:\t&#x27;feature_types&#x27;, &#x27;gene_id&#x27;\n",
       "      uns:\t&#x27;dataset_id&#x27;, &#x27;genome&#x27;, &#x27;organism&#x27;\n",
       "      obsm:\t&#x27;ADT_X_pca&#x27;, &#x27;ADT_X_umap&#x27;, &#x27;ADT_isotype_controls&#x27;, &#x27;GEX_X_pca&#x27;, &#x27;GEX_X_umap&#x27;\n",
       "      layers:\t&#x27;counts&#x27;</pre>"
      ],
      "text/plain": [
       "MuData object with n_obs × n_vars = 11126 × 14087\n",
       "  obs:\t'GEX_n_genes_by_counts', 'GEX_pct_counts_mt', 'GEX_size_factors', 'GEX_phase', 'ADT_n_antibodies_by_counts', 'ADT_total_counts', 'ADT_iso_count', 'cell_type', 'batch', 'ADT_pseudotime_order', 'GEX_pseudotime_order', 'Samplename', 'Site', 'DonorNumber', 'Modality', 'VendorLot', 'DonorID', 'DonorAge', 'DonorBMI', 'DonorBloodType', 'DonorRace', 'Ethnicity', 'DonorGender', 'QCMeds', 'DonorSmoker', 'is_train'\n",
       "  2 modalities\n",
       "    rna:\t11126 x 13953\n",
       "      obs:\t'GEX_n_genes_by_counts', 'GEX_pct_counts_mt', 'GEX_size_factors', 'GEX_phase', 'ADT_n_antibodies_by_counts', 'ADT_total_counts', 'ADT_iso_count', 'cell_type', 'batch', 'ADT_pseudotime_order', 'GEX_pseudotime_order', 'Samplename', 'Site', 'DonorNumber', 'Modality', 'VendorLot', 'DonorID', 'DonorAge', 'DonorBMI', 'DonorBloodType', 'DonorRace', 'Ethnicity', 'DonorGender', 'QCMeds', 'DonorSmoker', 'is_train'\n",
       "      var:\t'feature_types', 'gene_id'\n",
       "      uns:\t'dataset_id', 'genome', 'organism'\n",
       "      obsm:\t'ADT_X_pca', 'ADT_X_umap', 'ADT_isotype_controls', 'GEX_X_pca', 'GEX_X_umap'\n",
       "      layers:\t'counts'\n",
       "    adt:\t11126 x 134\n",
       "      obs:\t'GEX_n_genes_by_counts', 'GEX_pct_counts_mt', 'GEX_size_factors', 'GEX_phase', 'ADT_n_antibodies_by_counts', 'ADT_total_counts', 'ADT_iso_count', 'cell_type', 'batch', 'ADT_pseudotime_order', 'GEX_pseudotime_order', 'Samplename', 'Site', 'DonorNumber', 'Modality', 'VendorLot', 'DonorID', 'DonorAge', 'DonorBMI', 'DonorBloodType', 'DonorRace', 'Ethnicity', 'DonorGender', 'QCMeds', 'DonorSmoker', 'is_train'\n",
       "      var:\t'feature_types', 'gene_id'\n",
       "      uns:\t'dataset_id', 'genome', 'organism'\n",
       "      obsm:\t'ADT_X_pca', 'ADT_X_umap', 'ADT_isotype_controls', 'GEX_X_pca', 'GEX_X_umap'\n",
       "      layers:\t'counts'"
      ]
     },
     "execution_count": 6,
     "metadata": {},
     "output_type": "execute_result"
    }
   ],
   "source": [
    "mdata = mu.read(\"../datasets/multiome/cite_BMMC_s1_500.h5mu\")\n",
    "mdata"
   ]
  },
  {
   "cell_type": "code",
   "execution_count": 4,
   "metadata": {},
   "outputs": [
    {
     "data": {
      "text/plain": [
       "['s1d1', 's1d2', 's1d3', 's2d1', 's2d4', ..., 's3d6', 's3d7', 's4d1', 's4d8', 's4d9']\n",
       "Length: 12\n",
       "Categories (12, object): ['s1d1', 's1d2', 's1d3', 's2d1', ..., 's3d7', 's4d1', 's4d8', 's4d9']"
      ]
     },
     "execution_count": 4,
     "metadata": {},
     "output_type": "execute_result"
    }
   ],
   "source": [
    "mdata.obs['batch'].unique()"
   ]
  },
  {
   "cell_type": "code",
   "execution_count": 2,
   "metadata": {},
   "outputs": [
    {
     "data": {
      "text/plain": [
       "AnnData object with n_obs × n_vars = 138498 × 64\n",
       "    obs: 'rna:GEX_pct_counts_mt', 'rna:GEX_n_counts', 'rna:GEX_n_genes', 'rna:GEX_size_factors', 'rna:GEX_phase', 'rna:ATAC_nCount_peaks', 'rna:ATAC_atac_fragments', 'rna:ATAC_reads_in_peaks_frac', 'rna:ATAC_blacklist_fraction', 'rna:ATAC_nucleosome_signal', 'rna:cell_type', 'rna:batch', 'rna:ATAC_pseudotime_order', 'rna:GEX_pseudotime_order', 'rna:Samplename', 'rna:Site', 'rna:DonorNumber', 'rna:Modality', 'rna:VendorLot', 'rna:DonorID', 'rna:DonorAge', 'rna:DonorBMI', 'rna:DonorBloodType', 'rna:DonorRace', 'rna:Ethnicity', 'rna:DonorGender', 'rna:QCMeds', 'rna:DonorSmoker', 'atac:GEX_pct_counts_mt', 'atac:GEX_n_counts', 'atac:GEX_n_genes', 'atac:GEX_size_factors', 'atac:GEX_phase', 'atac:ATAC_nCount_peaks', 'atac:ATAC_atac_fragments', 'atac:ATAC_reads_in_peaks_frac', 'atac:ATAC_blacklist_fraction', 'atac:ATAC_nucleosome_signal', 'atac:cell_type', 'atac:batch', 'atac:ATAC_pseudotime_order', 'atac:GEX_pseudotime_order', 'atac:Samplename', 'atac:Site', 'atac:DonorNumber', 'atac:Modality', 'atac:VendorLot', 'atac:DonorID', 'atac:DonorAge', 'atac:DonorBMI', 'atac:DonorBloodType', 'atac:DonorRace', 'atac:Ethnicity', 'atac:DonorGender', 'atac:QCMeds', 'atac:DonorSmoker', 'GEX_pct_counts_mt', 'GEX_n_counts', 'GEX_n_genes', 'GEX_size_factors', 'GEX_phase', 'ATAC_nCount_peaks', 'ATAC_atac_fragments', 'ATAC_reads_in_peaks_frac', 'ATAC_blacklist_fraction', 'ATAC_nucleosome_signal', 'cell_type', 'batch', 'ATAC_pseudotime_order', 'GEX_pseudotime_order', 'Samplename', 'Site', 'DonorNumber', 'Modality', 'VendorLot', 'DonorID', 'DonorAge', 'DonorBMI', 'DonorBloodType', 'DonorRace', 'Ethnicity', 'DonorGender', 'QCMeds', 'DonorSmoker', 'leiden', 'modality'\n",
       "    uns: 'cell_type_colors', 'leiden', 'modality_colors', 'neighbors', 'umap'\n",
       "    obsm: 'X_umap'\n",
       "    obsp: 'connectivities', 'distances'"
      ]
     },
     "execution_count": 2,
     "metadata": {},
     "output_type": "execute_result"
    }
   ],
   "source": [
    "concat_emb = sc.read_h5ad(\"../results/benckmark/multiome_BMMCbatchsize64projection_dim64/concat.h5ad\")\n",
    "concat_emb"
   ]
  },
  {
   "cell_type": "code",
   "execution_count": 3,
   "metadata": {},
   "outputs": [
    {
     "name": "stdout",
     "output_type": "stream",
     "text": [
      "scMamba - INFO - Calculating omics mixing metrics...\n"
     ]
    },
    {
     "name": "stderr",
     "output_type": "stream",
     "text": [
      "/home/zyuan/.conda/envs/mamba/lib/python3.10/site-packages/anndata/_core/anndata.py:402: FutureWarning: The dtype argument is deprecated and will be removed in late 2024.\n",
      "  warnings.warn(\n",
      "/home/zyuan/code/scMamba2/scmamba2/utils/evaluation.py:298: FutureWarning: pandas.value_counts is deprecated and will be removed in a future version. Use pd.Series(obj).value_counts() instead.\n",
      "  counts = pd.value_counts(c)\n"
     ]
    },
    {
     "data": {
      "text/plain": [
       "{'omics entropy mixing score': 0.9897355481833218,\n",
       " 'Seurat alignment score (omics)': 0.9829785005174084,\n",
       " 'Graph connectivity': 0.6124171572338926,\n",
       " 'ASW_omics': 0.7810567617416382}"
      ]
     },
     "execution_count": 3,
     "metadata": {},
     "output_type": "execute_result"
    }
   ],
   "source": [
    "logger.info(\"Calculating omics mixing metrics...\")\n",
    "omics_mixing_metrics = omics_mixing(\n",
    "    concat_emb, concat_emb.obs['cell_type'].values, concat_emb.obs['modality'].values\n",
    ")\n",
    "omics_mixing_metrics"
   ]
  },
  {
   "cell_type": "code",
   "execution_count": 4,
   "metadata": {},
   "outputs": [
    {
     "name": "stdout",
     "output_type": "stream",
     "text": [
      "scMamba - INFO - Calculating biology conservation metrics...\n",
      "1.0\n"
     ]
    },
    {
     "data": {
      "text/plain": [
       "{'ARI': 0.7798572644798041,\n",
       " 'NMI': 0.7777392690075673,\n",
       " 'Mean average precision': 0.742387808962666,\n",
       " 'ASW_celltype': 0.6086784154176712}"
      ]
     },
     "execution_count": 4,
     "metadata": {},
     "output_type": "execute_result"
    }
   ],
   "source": [
    "logger.info(\"Calculating biology conservation metrics...\")\n",
    "biology_conservation_metrics, best_res= biology_conservation(\n",
    "    concat_emb, concat_emb.obs['cell_type'].values\n",
    ")\n",
    "print(best_res)\n",
    "biology_conservation_metrics"
   ]
  },
  {
   "cell_type": "code",
   "execution_count": 3,
   "metadata": {},
   "outputs": [
    {
     "name": "stdout",
     "output_type": "stream",
     "text": [
      "0.59\n",
      "0.4896434443335846\n"
     ]
    }
   ],
   "source": [
    "max_res = 0\n",
    "max_ARI = 0\n",
    "for res in range(40, 60):\n",
    "    res = res/100.0\n",
    "    sc.tl.leiden(concat_emb, resolution=res, flavor=\"igraph\", n_iterations=2)\n",
    "    ARI_score = ARI(concat_emb.obs[\"cell_type\"].values, concat_emb.obs[\"leiden\"].values)\n",
    "if ARI_score > max_ARI:\n",
    "    max_res = res\n",
    "    max_ARI = ARI_score\n",
    "print(max_res)\n",
    "print(max_ARI)"
   ]
  },
  {
   "cell_type": "code",
   "execution_count": null,
   "metadata": {},
   "outputs": [],
   "source": [
    "metrics = {}\n",
    "metrics_classified = {}\n",
    "logger.info(\"Calculating biology conservation metrics...\")\n",
    "biology_conservation_metrics, best_res= biology_conservation(\n",
    "    concat_emb, concat_emb.obs['cell_type'].values\n",
    ")\n",
    "logger.info(\"Calculating omics mixing metrics...\")\n",
    "omics_mixing_metrics = omics_mixing(\n",
    "    concat_emb, concat_emb.obs['cell_type'].values, concat_emb.obs['modality'].values\n",
    ")\n",
    "metrics_classified['biology conservation'] = biology_conservation_metrics\n",
    "metrics_classified['omics mixing'] = omics_mixing_metrics\n",
    "\n",
    "metrics.update(biology_conservation_metrics)\n",
    "metrics.update(omics_mixing_metrics)\n",
    "\n",
    "metrics['epcohs'] = 100\n",
    "metrics['best resolutioin'] = best_res\n",
    "# metrics['mean F1 silhouette'] = mean_F1_silhouette(\n",
    "#     concate_embeds.X, \n",
    "#     cell_type=concate_embeds.obs['cell_type'].values,\n",
    "#     omics=concate_embeds.obs['modality'].values,\n",
    "#     device_id=args.device,\n",
    "#     chunk_size=100000\n",
    "# )\n",
    "print(metrics)\n",
    "\n",
    "if not os.path.exists(f'{out_dir}/metrics.csv'):\n",
    "    metrics_df = pd.DataFrame([metrics])\n",
    "else:\n",
    "    metrics_df = pd.read_csv(\n",
    "        f'{out_dir}/metrics.csv' \n",
    "    )\n",
    "    new_metrics_df = pd.DataFrame([metrics])\n",
    "    metrics_df = pd.concat([metrics_df, new_metrics_df], ignore_index=True)\n",
    "metrics_df.to_csv(f'{out_dir}/metrics.csv', index=False)"
   ]
  }
 ],
 "metadata": {
  "kernelspec": {
   "display_name": "Python 3",
   "language": "python",
   "name": "python3"
  },
  "language_info": {
   "codemirror_mode": {
    "name": "ipython",
    "version": 3
   },
   "file_extension": ".py",
   "mimetype": "text/x-python",
   "name": "python",
   "nbconvert_exporter": "python",
   "pygments_lexer": "ipython3",
   "version": "3.10.15"
  }
 },
 "nbformat": 4,
 "nbformat_minor": 2
}
