{
 "cells": [
  {
   "cell_type": "code",
   "execution_count": 1,
   "metadata": {},
   "outputs": [],
   "source": [
    "import scanpy as sc\n",
    "import muon as mu"
   ]
  },
  {
   "cell_type": "code",
   "execution_count": 2,
   "metadata": {},
   "outputs": [
    {
     "name": "stderr",
     "output_type": "stream",
     "text": [
      "/home/zyuan/.conda/envs/mamba/lib/python3.10/site-packages/mudata/_core/mudata.py:1531: FutureWarning: From 0.4 .update() will not pull obs/var columns from individual modalities by default anymore. Set mudata.set_options(pull_on_update=False) to adopt the new behaviour, which will become the default. Use new pull_obs/pull_var and push_obs/push_var methods for more flexibility.\n",
      "  self._update_attr(\"var\", axis=0, join_common=join_common)\n",
      "/home/zyuan/.conda/envs/mamba/lib/python3.10/site-packages/mudata/_core/mudata.py:1019: FutureWarning: The behavior of DataFrame concatenation with empty or all-NA entries is deprecated. In a future version, this will no longer exclude empty or all-NA columns when determining the result dtypes. To retain the old behavior, exclude the relevant entries before the concat operation.\n",
      "  data_common = pd.concat(\n",
      "/home/zyuan/.conda/envs/mamba/lib/python3.10/site-packages/mudata/_core/mudata.py:1429: FutureWarning: From 0.4 .update() will not pull obs/var columns from individual modalities by default anymore. Set mudata.set_options(pull_on_update=False) to adopt the new behaviour, which will become the default. Use new pull_obs/pull_var and push_obs/push_var methods for more flexibility.\n",
      "  self._update_attr(\"obs\", axis=1, join_common=join_common)\n"
     ]
    },
    {
     "data": {
      "text/html": [
       "<pre>MuData object with n_obs × n_vars = 69249 × 129921\n",
       "  obs:\t&#x27;GEX_pct_counts_mt&#x27;, &#x27;GEX_n_counts&#x27;, &#x27;GEX_n_genes&#x27;, &#x27;GEX_size_factors&#x27;, &#x27;GEX_phase&#x27;, &#x27;ATAC_nCount_peaks&#x27;, &#x27;ATAC_atac_fragments&#x27;, &#x27;ATAC_reads_in_peaks_frac&#x27;, &#x27;ATAC_blacklist_fraction&#x27;, &#x27;ATAC_nucleosome_signal&#x27;, &#x27;cell_type&#x27;, &#x27;batch&#x27;, &#x27;ATAC_pseudotime_order&#x27;, &#x27;GEX_pseudotime_order&#x27;, &#x27;Samplename&#x27;, &#x27;Site&#x27;, &#x27;DonorNumber&#x27;, &#x27;Modality&#x27;, &#x27;VendorLot&#x27;, &#x27;DonorID&#x27;, &#x27;DonorAge&#x27;, &#x27;DonorBMI&#x27;, &#x27;DonorBloodType&#x27;, &#x27;DonorRace&#x27;, &#x27;Ethnicity&#x27;, &#x27;DonorGender&#x27;, &#x27;QCMeds&#x27;, &#x27;DonorSmoker&#x27;\n",
       "  var:\t&#x27;feature_types&#x27;, &#x27;gene_id&#x27;\n",
       "  2 modalities\n",
       "    rna:\t69249 x 13431\n",
       "      obs:\t&#x27;GEX_pct_counts_mt&#x27;, &#x27;GEX_n_counts&#x27;, &#x27;GEX_n_genes&#x27;, &#x27;GEX_size_factors&#x27;, &#x27;GEX_phase&#x27;, &#x27;ATAC_nCount_peaks&#x27;, &#x27;ATAC_atac_fragments&#x27;, &#x27;ATAC_reads_in_peaks_frac&#x27;, &#x27;ATAC_blacklist_fraction&#x27;, &#x27;ATAC_nucleosome_signal&#x27;, &#x27;cell_type&#x27;, &#x27;batch&#x27;, &#x27;ATAC_pseudotime_order&#x27;, &#x27;GEX_pseudotime_order&#x27;, &#x27;Samplename&#x27;, &#x27;Site&#x27;, &#x27;DonorNumber&#x27;, &#x27;Modality&#x27;, &#x27;VendorLot&#x27;, &#x27;DonorID&#x27;, &#x27;DonorAge&#x27;, &#x27;DonorBMI&#x27;, &#x27;DonorBloodType&#x27;, &#x27;DonorRace&#x27;, &#x27;Ethnicity&#x27;, &#x27;DonorGender&#x27;, &#x27;QCMeds&#x27;, &#x27;DonorSmoker&#x27;\n",
       "      var:\t&#x27;feature_types&#x27;, &#x27;gene_id&#x27;\n",
       "      uns:\t&#x27;ATAC_gene_activity_var_names&#x27;, &#x27;dataset_id&#x27;, &#x27;genome&#x27;, &#x27;organism&#x27;\n",
       "      obsm:\t&#x27;ATAC_gene_activity&#x27;, &#x27;ATAC_lsi_full&#x27;, &#x27;ATAC_lsi_red&#x27;, &#x27;ATAC_umap&#x27;, &#x27;GEX_X_pca&#x27;, &#x27;GEX_X_umap&#x27;\n",
       "      layers:\t&#x27;counts&#x27;\n",
       "    atac:\t69249 x 116490\n",
       "      obs:\t&#x27;GEX_pct_counts_mt&#x27;, &#x27;GEX_n_counts&#x27;, &#x27;GEX_n_genes&#x27;, &#x27;GEX_size_factors&#x27;, &#x27;GEX_phase&#x27;, &#x27;ATAC_nCount_peaks&#x27;, &#x27;ATAC_atac_fragments&#x27;, &#x27;ATAC_reads_in_peaks_frac&#x27;, &#x27;ATAC_blacklist_fraction&#x27;, &#x27;ATAC_nucleosome_signal&#x27;, &#x27;cell_type&#x27;, &#x27;batch&#x27;, &#x27;ATAC_pseudotime_order&#x27;, &#x27;GEX_pseudotime_order&#x27;, &#x27;Samplename&#x27;, &#x27;Site&#x27;, &#x27;DonorNumber&#x27;, &#x27;Modality&#x27;, &#x27;VendorLot&#x27;, &#x27;DonorID&#x27;, &#x27;DonorAge&#x27;, &#x27;DonorBMI&#x27;, &#x27;DonorBloodType&#x27;, &#x27;DonorRace&#x27;, &#x27;Ethnicity&#x27;, &#x27;DonorGender&#x27;, &#x27;QCMeds&#x27;, &#x27;DonorSmoker&#x27;\n",
       "      var:\t&#x27;feature_types&#x27;, &#x27;gene_id&#x27;\n",
       "      uns:\t&#x27;ATAC_gene_activity_var_names&#x27;, &#x27;dataset_id&#x27;, &#x27;genome&#x27;, &#x27;organism&#x27;\n",
       "      obsm:\t&#x27;ATAC_gene_activity&#x27;, &#x27;ATAC_lsi_full&#x27;, &#x27;ATAC_lsi_red&#x27;, &#x27;ATAC_umap&#x27;, &#x27;GEX_X_pca&#x27;, &#x27;GEX_X_umap&#x27;\n",
       "      layers:\t&#x27;counts&#x27;</pre>"
      ],
      "text/plain": [
       "MuData object with n_obs × n_vars = 69249 × 129921\n",
       "  obs:\t'GEX_pct_counts_mt', 'GEX_n_counts', 'GEX_n_genes', 'GEX_size_factors', 'GEX_phase', 'ATAC_nCount_peaks', 'ATAC_atac_fragments', 'ATAC_reads_in_peaks_frac', 'ATAC_blacklist_fraction', 'ATAC_nucleosome_signal', 'cell_type', 'batch', 'ATAC_pseudotime_order', 'GEX_pseudotime_order', 'Samplename', 'Site', 'DonorNumber', 'Modality', 'VendorLot', 'DonorID', 'DonorAge', 'DonorBMI', 'DonorBloodType', 'DonorRace', 'Ethnicity', 'DonorGender', 'QCMeds', 'DonorSmoker'\n",
       "  var:\t'feature_types', 'gene_id'\n",
       "  2 modalities\n",
       "    rna:\t69249 x 13431\n",
       "      obs:\t'GEX_pct_counts_mt', 'GEX_n_counts', 'GEX_n_genes', 'GEX_size_factors', 'GEX_phase', 'ATAC_nCount_peaks', 'ATAC_atac_fragments', 'ATAC_reads_in_peaks_frac', 'ATAC_blacklist_fraction', 'ATAC_nucleosome_signal', 'cell_type', 'batch', 'ATAC_pseudotime_order', 'GEX_pseudotime_order', 'Samplename', 'Site', 'DonorNumber', 'Modality', 'VendorLot', 'DonorID', 'DonorAge', 'DonorBMI', 'DonorBloodType', 'DonorRace', 'Ethnicity', 'DonorGender', 'QCMeds', 'DonorSmoker'\n",
       "      var:\t'feature_types', 'gene_id'\n",
       "      uns:\t'ATAC_gene_activity_var_names', 'dataset_id', 'genome', 'organism'\n",
       "      obsm:\t'ATAC_gene_activity', 'ATAC_lsi_full', 'ATAC_lsi_red', 'ATAC_umap', 'GEX_X_pca', 'GEX_X_umap'\n",
       "      layers:\t'counts'\n",
       "    atac:\t69249 x 116490\n",
       "      obs:\t'GEX_pct_counts_mt', 'GEX_n_counts', 'GEX_n_genes', 'GEX_size_factors', 'GEX_phase', 'ATAC_nCount_peaks', 'ATAC_atac_fragments', 'ATAC_reads_in_peaks_frac', 'ATAC_blacklist_fraction', 'ATAC_nucleosome_signal', 'cell_type', 'batch', 'ATAC_pseudotime_order', 'GEX_pseudotime_order', 'Samplename', 'Site', 'DonorNumber', 'Modality', 'VendorLot', 'DonorID', 'DonorAge', 'DonorBMI', 'DonorBloodType', 'DonorRace', 'Ethnicity', 'DonorGender', 'QCMeds', 'DonorSmoker'\n",
       "      var:\t'feature_types', 'gene_id'\n",
       "      uns:\t'ATAC_gene_activity_var_names', 'dataset_id', 'genome', 'organism'\n",
       "      obsm:\t'ATAC_gene_activity', 'ATAC_lsi_full', 'ATAC_lsi_red', 'ATAC_umap', 'GEX_X_pca', 'GEX_X_umap'\n",
       "      layers:\t'counts'"
      ]
     },
     "execution_count": 2,
     "metadata": {},
     "output_type": "execute_result"
    }
   ],
   "source": [
    "mdata = mu.read(\"../datasets/multiome/multiome_BMMC.h5mu\")\n",
    "mdata"
   ]
  },
  {
   "cell_type": "code",
   "execution_count": 3,
   "metadata": {},
   "outputs": [
    {
     "name": "stderr",
     "output_type": "stream",
     "text": [
      "/home/zyuan/.conda/envs/mamba/lib/python3.10/site-packages/mudata/_core/mudata.py:1531: FutureWarning: From 0.4 .update() will not pull obs/var columns from individual modalities by default anymore. Set mudata.set_options(pull_on_update=False) to adopt the new behaviour, which will become the default. Use new pull_obs/pull_var and push_obs/push_var methods for more flexibility.\n",
      "  self._update_attr(\"var\", axis=0, join_common=join_common)\n",
      "/home/zyuan/.conda/envs/mamba/lib/python3.10/site-packages/mudata/_core/mudata.py:1019: FutureWarning: The behavior of DataFrame concatenation with empty or all-NA entries is deprecated. In a future version, this will no longer exclude empty or all-NA columns when determining the result dtypes. To retain the old behavior, exclude the relevant entries before the concat operation.\n",
      "  data_common = pd.concat(\n",
      "/home/zyuan/.conda/envs/mamba/lib/python3.10/site-packages/mudata/_core/mudata.py:1429: FutureWarning: From 0.4 .update() will not pull obs/var columns from individual modalities by default anymore. Set mudata.set_options(pull_on_update=False) to adopt the new behaviour, which will become the default. Use new pull_obs/pull_var and push_obs/push_var methods for more flexibility.\n",
      "  self._update_attr(\"obs\", axis=1, join_common=join_common)\n"
     ]
    },
    {
     "data": {
      "text/html": [
       "<pre>MuData object with n_obs × n_vars = 10862 × 129921\n",
       "  obs:\t&#x27;GEX_pct_counts_mt&#x27;, &#x27;GEX_n_counts&#x27;, &#x27;GEX_n_genes&#x27;, &#x27;GEX_size_factors&#x27;, &#x27;GEX_phase&#x27;, &#x27;ATAC_nCount_peaks&#x27;, &#x27;ATAC_atac_fragments&#x27;, &#x27;ATAC_reads_in_peaks_frac&#x27;, &#x27;ATAC_blacklist_fraction&#x27;, &#x27;ATAC_nucleosome_signal&#x27;, &#x27;cell_type&#x27;, &#x27;batch&#x27;, &#x27;ATAC_pseudotime_order&#x27;, &#x27;GEX_pseudotime_order&#x27;, &#x27;Samplename&#x27;, &#x27;Site&#x27;, &#x27;DonorNumber&#x27;, &#x27;Modality&#x27;, &#x27;VendorLot&#x27;, &#x27;DonorID&#x27;, &#x27;DonorAge&#x27;, &#x27;DonorBMI&#x27;, &#x27;DonorBloodType&#x27;, &#x27;DonorRace&#x27;, &#x27;Ethnicity&#x27;, &#x27;DonorGender&#x27;, &#x27;QCMeds&#x27;, &#x27;DonorSmoker&#x27;\n",
       "  var:\t&#x27;feature_types&#x27;, &#x27;gene_id&#x27;\n",
       "  2 modalities\n",
       "    rna:\t10862 x 13431\n",
       "      obs:\t&#x27;GEX_pct_counts_mt&#x27;, &#x27;GEX_n_counts&#x27;, &#x27;GEX_n_genes&#x27;, &#x27;GEX_size_factors&#x27;, &#x27;GEX_phase&#x27;, &#x27;ATAC_nCount_peaks&#x27;, &#x27;ATAC_atac_fragments&#x27;, &#x27;ATAC_reads_in_peaks_frac&#x27;, &#x27;ATAC_blacklist_fraction&#x27;, &#x27;ATAC_nucleosome_signal&#x27;, &#x27;cell_type&#x27;, &#x27;batch&#x27;, &#x27;ATAC_pseudotime_order&#x27;, &#x27;GEX_pseudotime_order&#x27;, &#x27;Samplename&#x27;, &#x27;Site&#x27;, &#x27;DonorNumber&#x27;, &#x27;Modality&#x27;, &#x27;VendorLot&#x27;, &#x27;DonorID&#x27;, &#x27;DonorAge&#x27;, &#x27;DonorBMI&#x27;, &#x27;DonorBloodType&#x27;, &#x27;DonorRace&#x27;, &#x27;Ethnicity&#x27;, &#x27;DonorGender&#x27;, &#x27;QCMeds&#x27;, &#x27;DonorSmoker&#x27;\n",
       "      var:\t&#x27;feature_types&#x27;, &#x27;gene_id&#x27;\n",
       "      uns:\t&#x27;ATAC_gene_activity_var_names&#x27;, &#x27;dataset_id&#x27;, &#x27;genome&#x27;, &#x27;organism&#x27;\n",
       "      obsm:\t&#x27;ATAC_gene_activity&#x27;, &#x27;ATAC_lsi_full&#x27;, &#x27;ATAC_lsi_red&#x27;, &#x27;ATAC_umap&#x27;, &#x27;GEX_X_pca&#x27;, &#x27;GEX_X_umap&#x27;\n",
       "      layers:\t&#x27;counts&#x27;\n",
       "    atac:\t10862 x 116490\n",
       "      obs:\t&#x27;GEX_pct_counts_mt&#x27;, &#x27;GEX_n_counts&#x27;, &#x27;GEX_n_genes&#x27;, &#x27;GEX_size_factors&#x27;, &#x27;GEX_phase&#x27;, &#x27;ATAC_nCount_peaks&#x27;, &#x27;ATAC_atac_fragments&#x27;, &#x27;ATAC_reads_in_peaks_frac&#x27;, &#x27;ATAC_blacklist_fraction&#x27;, &#x27;ATAC_nucleosome_signal&#x27;, &#x27;cell_type&#x27;, &#x27;batch&#x27;, &#x27;ATAC_pseudotime_order&#x27;, &#x27;GEX_pseudotime_order&#x27;, &#x27;Samplename&#x27;, &#x27;Site&#x27;, &#x27;DonorNumber&#x27;, &#x27;Modality&#x27;, &#x27;VendorLot&#x27;, &#x27;DonorID&#x27;, &#x27;DonorAge&#x27;, &#x27;DonorBMI&#x27;, &#x27;DonorBloodType&#x27;, &#x27;DonorRace&#x27;, &#x27;Ethnicity&#x27;, &#x27;DonorGender&#x27;, &#x27;QCMeds&#x27;, &#x27;DonorSmoker&#x27;\n",
       "      var:\t&#x27;feature_types&#x27;, &#x27;gene_id&#x27;\n",
       "      uns:\t&#x27;ATAC_gene_activity_var_names&#x27;, &#x27;dataset_id&#x27;, &#x27;genome&#x27;, &#x27;organism&#x27;\n",
       "      obsm:\t&#x27;ATAC_gene_activity&#x27;, &#x27;ATAC_lsi_full&#x27;, &#x27;ATAC_lsi_red&#x27;, &#x27;ATAC_umap&#x27;, &#x27;GEX_X_pca&#x27;, &#x27;GEX_X_umap&#x27;\n",
       "      layers:\t&#x27;counts&#x27;</pre>"
      ],
      "text/plain": [
       "MuData object with n_obs × n_vars = 10862 × 129921\n",
       "  obs:\t'GEX_pct_counts_mt', 'GEX_n_counts', 'GEX_n_genes', 'GEX_size_factors', 'GEX_phase', 'ATAC_nCount_peaks', 'ATAC_atac_fragments', 'ATAC_reads_in_peaks_frac', 'ATAC_blacklist_fraction', 'ATAC_nucleosome_signal', 'cell_type', 'batch', 'ATAC_pseudotime_order', 'GEX_pseudotime_order', 'Samplename', 'Site', 'DonorNumber', 'Modality', 'VendorLot', 'DonorID', 'DonorAge', 'DonorBMI', 'DonorBloodType', 'DonorRace', 'Ethnicity', 'DonorGender', 'QCMeds', 'DonorSmoker'\n",
       "  var:\t'feature_types', 'gene_id'\n",
       "  2 modalities\n",
       "    rna:\t10862 x 13431\n",
       "      obs:\t'GEX_pct_counts_mt', 'GEX_n_counts', 'GEX_n_genes', 'GEX_size_factors', 'GEX_phase', 'ATAC_nCount_peaks', 'ATAC_atac_fragments', 'ATAC_reads_in_peaks_frac', 'ATAC_blacklist_fraction', 'ATAC_nucleosome_signal', 'cell_type', 'batch', 'ATAC_pseudotime_order', 'GEX_pseudotime_order', 'Samplename', 'Site', 'DonorNumber', 'Modality', 'VendorLot', 'DonorID', 'DonorAge', 'DonorBMI', 'DonorBloodType', 'DonorRace', 'Ethnicity', 'DonorGender', 'QCMeds', 'DonorSmoker'\n",
       "      var:\t'feature_types', 'gene_id'\n",
       "      uns:\t'ATAC_gene_activity_var_names', 'dataset_id', 'genome', 'organism'\n",
       "      obsm:\t'ATAC_gene_activity', 'ATAC_lsi_full', 'ATAC_lsi_red', 'ATAC_umap', 'GEX_X_pca', 'GEX_X_umap'\n",
       "      layers:\t'counts'\n",
       "    atac:\t10862 x 116490\n",
       "      obs:\t'GEX_pct_counts_mt', 'GEX_n_counts', 'GEX_n_genes', 'GEX_size_factors', 'GEX_phase', 'ATAC_nCount_peaks', 'ATAC_atac_fragments', 'ATAC_reads_in_peaks_frac', 'ATAC_blacklist_fraction', 'ATAC_nucleosome_signal', 'cell_type', 'batch', 'ATAC_pseudotime_order', 'GEX_pseudotime_order', 'Samplename', 'Site', 'DonorNumber', 'Modality', 'VendorLot', 'DonorID', 'DonorAge', 'DonorBMI', 'DonorBloodType', 'DonorRace', 'Ethnicity', 'DonorGender', 'QCMeds', 'DonorSmoker'\n",
       "      var:\t'feature_types', 'gene_id'\n",
       "      uns:\t'ATAC_gene_activity_var_names', 'dataset_id', 'genome', 'organism'\n",
       "      obsm:\t'ATAC_gene_activity', 'ATAC_lsi_full', 'ATAC_lsi_red', 'ATAC_umap', 'GEX_X_pca', 'GEX_X_umap'\n",
       "      layers:\t'counts'"
      ]
     },
     "execution_count": 3,
     "metadata": {},
     "output_type": "execute_result"
    }
   ],
   "source": [
    "mdata = mdata[mdata.obs['GEX_pseudotime_order'].notnull()].copy()\n",
    "mdata"
   ]
  },
  {
   "cell_type": "code",
   "execution_count": 4,
   "metadata": {},
   "outputs": [
    {
     "name": "stderr",
     "output_type": "stream",
     "text": [
      "/home/zyuan/.conda/envs/mamba/lib/python3.10/site-packages/mudata/_core/mudata.py:1531: FutureWarning: From 0.4 .update() will not pull obs/var columns from individual modalities by default anymore. Set mudata.set_options(pull_on_update=False) to adopt the new behaviour, which will become the default. Use new pull_obs/pull_var and push_obs/push_var methods for more flexibility.\n",
      "  self._update_attr(\"var\", axis=0, join_common=join_common)\n",
      "/home/zyuan/.conda/envs/mamba/lib/python3.10/site-packages/mudata/_core/mudata.py:1429: FutureWarning: From 0.4 .update() will not pull obs/var columns from individual modalities by default anymore. Set mudata.set_options(pull_on_update=False) to adopt the new behaviour, which will become the default. Use new pull_obs/pull_var and push_obs/push_var methods for more flexibility.\n",
      "  self._update_attr(\"obs\", axis=1, join_common=join_common)\n"
     ]
    }
   ],
   "source": [
    "mdata.write_h5mu(\"../datasets/multiome/multiome_BMMC_TI.h5mu\")"
   ]
  },
  {
   "cell_type": "code",
   "execution_count": null,
   "metadata": {},
   "outputs": [],
   "source": []
  }
 ],
 "metadata": {
  "kernelspec": {
   "display_name": "mamba",
   "language": "python",
   "name": "python3"
  },
  "language_info": {
   "codemirror_mode": {
    "name": "ipython",
    "version": 3
   },
   "file_extension": ".py",
   "mimetype": "text/x-python",
   "name": "python",
   "nbconvert_exporter": "python",
   "pygments_lexer": "ipython3",
   "version": "3.10.15"
  }
 },
 "nbformat": 4,
 "nbformat_minor": 2
}
