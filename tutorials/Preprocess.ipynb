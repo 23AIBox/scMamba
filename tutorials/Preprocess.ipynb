{
 "cells": [
  {
   "cell_type": "code",
   "execution_count": 1,
   "metadata": {},
   "outputs": [],
   "source": [
    "import scanpy as sc\n",
    "import muon as mu"
   ]
  },
  {
   "cell_type": "code",
   "execution_count": 3,
   "metadata": {},
   "outputs": [
    {
     "name": "stderr",
     "output_type": "stream",
     "text": [
      "/home/zyuan/.conda/envs/mamba/lib/python3.10/site-packages/mudata/_core/mudata.py:1531: FutureWarning: From 0.4 .update() will not pull obs/var columns from individual modalities by default anymore. Set mudata.set_options(pull_on_update=False) to adopt the new behaviour, which will become the default. Use new pull_obs/pull_var and push_obs/push_var methods for more flexibility.\n",
      "  self._update_attr(\"var\", axis=0, join_common=join_common)\n",
      "/home/zyuan/.conda/envs/mamba/lib/python3.10/site-packages/mudata/_core/mudata.py:931: UserWarning: Cannot join columns with the same name because var_names are intersecting.\n",
      "  warnings.warn(\n",
      "/home/zyuan/.conda/envs/mamba/lib/python3.10/site-packages/mudata/_core/mudata.py:1429: FutureWarning: From 0.4 .update() will not pull obs/var columns from individual modalities by default anymore. Set mudata.set_options(pull_on_update=False) to adopt the new behaviour, which will become the default. Use new pull_obs/pull_var and push_obs/push_var methods for more flexibility.\n",
      "  self._update_attr(\"obs\", axis=1, join_common=join_common)\n"
     ]
    },
    {
     "data": {
      "text/html": [
       "<pre>MuData object with n_obs × n_vars = 35340 × 20953\n",
       "  obs:\t&#x27;celltype.l1&#x27;, &#x27;celltype.l2&#x27;, &#x27;celltype.l3&#x27;, &#x27;donor&#x27;\n",
       "  2 modalities\n",
       "    rna:\t35340 x 20729\n",
       "      obs:\t&#x27;nCount_ADT&#x27;, &#x27;nFeature_ADT&#x27;, &#x27;nCount_RNA&#x27;, &#x27;nFeature_RNA&#x27;, &#x27;orig.ident&#x27;, &#x27;lane&#x27;, &#x27;donor&#x27;, &#x27;time&#x27;, &#x27;celltype.l1&#x27;, &#x27;celltype.l2&#x27;, &#x27;celltype.l3&#x27;, &#x27;Phase&#x27;\n",
       "      var:\t&#x27;name&#x27;\n",
       "      obsm:\t&#x27;X_apca&#x27;, &#x27;X_aumap&#x27;, &#x27;X_pca&#x27;, &#x27;X_spca&#x27;, &#x27;X_umap&#x27;, &#x27;X_wnn.umap&#x27;\n",
       "    adt:\t35340 x 224\n",
       "      obs:\t&#x27;nCount_ADT&#x27;, &#x27;nFeature_ADT&#x27;, &#x27;nCount_RNA&#x27;, &#x27;nFeature_RNA&#x27;, &#x27;orig.ident&#x27;, &#x27;lane&#x27;, &#x27;donor&#x27;, &#x27;time&#x27;, &#x27;celltype.l1&#x27;, &#x27;celltype.l2&#x27;, &#x27;celltype.l3&#x27;, &#x27;Phase&#x27;\n",
       "      var:\t&#x27;name&#x27;\n",
       "      obsm:\t&#x27;X_apca&#x27;, &#x27;X_aumap&#x27;, &#x27;X_pca&#x27;, &#x27;X_spca&#x27;, &#x27;X_umap&#x27;, &#x27;X_wnn.umap&#x27;</pre>"
      ],
      "text/plain": [
       "MuData object with n_obs × n_vars = 35340 × 20953\n",
       "  obs:\t'celltype.l1', 'celltype.l2', 'celltype.l3', 'donor'\n",
       "  2 modalities\n",
       "    rna:\t35340 x 20729\n",
       "      obs:\t'nCount_ADT', 'nFeature_ADT', 'nCount_RNA', 'nFeature_RNA', 'orig.ident', 'lane', 'donor', 'time', 'celltype.l1', 'celltype.l2', 'celltype.l3', 'Phase'\n",
       "      var:\t'name'\n",
       "      obsm:\t'X_apca', 'X_aumap', 'X_pca', 'X_spca', 'X_umap', 'X_wnn.umap'\n",
       "    adt:\t35340 x 224\n",
       "      obs:\t'nCount_ADT', 'nFeature_ADT', 'nCount_RNA', 'nFeature_RNA', 'orig.ident', 'lane', 'donor', 'time', 'celltype.l1', 'celltype.l2', 'celltype.l3', 'Phase'\n",
       "      var:\t'name'\n",
       "      obsm:\t'X_apca', 'X_aumap', 'X_pca', 'X_spca', 'X_umap', 'X_wnn.umap'"
      ]
     },
     "execution_count": 3,
     "metadata": {},
     "output_type": "execute_result"
    }
   ],
   "source": [
    "mdata = mu.read_h5mu(\"../datasets/multiome/pbmc_rna_protein_P1P2.h5mu\")\n",
    "mdata"
   ]
  },
  {
   "cell_type": "code",
   "execution_count": 4,
   "metadata": {},
   "outputs": [
    {
     "data": {
      "text/plain": [
       "celltype.l2\n",
       "CD14 Mono            7021\n",
       "CD4 Naive            5496\n",
       "CD4 TCM              3944\n",
       "CD8 Naive            3482\n",
       "NK                   2859\n",
       "CD8 TEM              2613\n",
       "CD16 Mono            1515\n",
       "B naive              1406\n",
       "Treg                 1264\n",
       "gdT                   825\n",
       "CD4 CTL               771\n",
       "CD4 TEM               706\n",
       "CD8 TCM               613\n",
       "cDC2                  463\n",
       "MAIT                  278\n",
       "B memory              257\n",
       "B intermediate        248\n",
       "HSPC                  241\n",
       "NK_CD56bright         215\n",
       "Platelet              200\n",
       "dnT                   193\n",
       "Doublet               191\n",
       "Plasmablast           139\n",
       "NK Proliferating      126\n",
       "pDC                   103\n",
       "Eryth                  37\n",
       "CD4 Proliferating      36\n",
       "ILC                    32\n",
       "cDC1                   29\n",
       "CD8 Proliferating      22\n",
       "ASDC                   15\n",
       "Name: count, dtype: int64"
      ]
     },
     "execution_count": 4,
     "metadata": {},
     "output_type": "execute_result"
    }
   ],
   "source": [
    "mdata.obs['celltype.l2'].value_counts()"
   ]
  },
  {
   "cell_type": "code",
   "execution_count": 5,
   "metadata": {},
   "outputs": [
    {
     "data": {
      "text/html": [
       "<pre>MuData object with n_obs × n_vars = 35340 × 20953\n",
       "  obs:\t&#x27;celltype.l1&#x27;, &#x27;celltype.l2&#x27;, &#x27;celltype.l3&#x27;, &#x27;donor&#x27;, &#x27;cell_type&#x27;\n",
       "  2 modalities\n",
       "    rna:\t35340 x 20729\n",
       "      obs:\t&#x27;nCount_ADT&#x27;, &#x27;nFeature_ADT&#x27;, &#x27;nCount_RNA&#x27;, &#x27;nFeature_RNA&#x27;, &#x27;orig.ident&#x27;, &#x27;lane&#x27;, &#x27;donor&#x27;, &#x27;time&#x27;, &#x27;celltype.l1&#x27;, &#x27;celltype.l2&#x27;, &#x27;celltype.l3&#x27;, &#x27;Phase&#x27;\n",
       "      var:\t&#x27;name&#x27;\n",
       "      obsm:\t&#x27;X_apca&#x27;, &#x27;X_aumap&#x27;, &#x27;X_pca&#x27;, &#x27;X_spca&#x27;, &#x27;X_umap&#x27;, &#x27;X_wnn.umap&#x27;\n",
       "    adt:\t35340 x 224\n",
       "      obs:\t&#x27;nCount_ADT&#x27;, &#x27;nFeature_ADT&#x27;, &#x27;nCount_RNA&#x27;, &#x27;nFeature_RNA&#x27;, &#x27;orig.ident&#x27;, &#x27;lane&#x27;, &#x27;donor&#x27;, &#x27;time&#x27;, &#x27;celltype.l1&#x27;, &#x27;celltype.l2&#x27;, &#x27;celltype.l3&#x27;, &#x27;Phase&#x27;\n",
       "      var:\t&#x27;name&#x27;\n",
       "      obsm:\t&#x27;X_apca&#x27;, &#x27;X_aumap&#x27;, &#x27;X_pca&#x27;, &#x27;X_spca&#x27;, &#x27;X_umap&#x27;, &#x27;X_wnn.umap&#x27;</pre>"
      ],
      "text/plain": [
       "MuData object with n_obs × n_vars = 35340 × 20953\n",
       "  obs:\t'celltype.l1', 'celltype.l2', 'celltype.l3', 'donor', 'cell_type'\n",
       "  2 modalities\n",
       "    rna:\t35340 x 20729\n",
       "      obs:\t'nCount_ADT', 'nFeature_ADT', 'nCount_RNA', 'nFeature_RNA', 'orig.ident', 'lane', 'donor', 'time', 'celltype.l1', 'celltype.l2', 'celltype.l3', 'Phase'\n",
       "      var:\t'name'\n",
       "      obsm:\t'X_apca', 'X_aumap', 'X_pca', 'X_spca', 'X_umap', 'X_wnn.umap'\n",
       "    adt:\t35340 x 224\n",
       "      obs:\t'nCount_ADT', 'nFeature_ADT', 'nCount_RNA', 'nFeature_RNA', 'orig.ident', 'lane', 'donor', 'time', 'celltype.l1', 'celltype.l2', 'celltype.l3', 'Phase'\n",
       "      var:\t'name'\n",
       "      obsm:\t'X_apca', 'X_aumap', 'X_pca', 'X_spca', 'X_umap', 'X_wnn.umap'"
      ]
     },
     "execution_count": 5,
     "metadata": {},
     "output_type": "execute_result"
    }
   ],
   "source": [
    "mdata.obs['cell_type'] = mdata.obs['celltype.l2']\n",
    "mdata"
   ]
  },
  {
   "cell_type": "code",
   "execution_count": 6,
   "metadata": {},
   "outputs": [
    {
     "name": "stderr",
     "output_type": "stream",
     "text": [
      "/home/zyuan/.conda/envs/mamba/lib/python3.10/site-packages/mudata/_core/mudata.py:1531: FutureWarning: From 0.4 .update() will not pull obs/var columns from individual modalities by default anymore. Set mudata.set_options(pull_on_update=False) to adopt the new behaviour, which will become the default. Use new pull_obs/pull_var and push_obs/push_var methods for more flexibility.\n",
      "  self._update_attr(\"var\", axis=0, join_common=join_common)\n",
      "/home/zyuan/.conda/envs/mamba/lib/python3.10/site-packages/mudata/_core/mudata.py:1429: FutureWarning: From 0.4 .update() will not pull obs/var columns from individual modalities by default anymore. Set mudata.set_options(pull_on_update=False) to adopt the new behaviour, which will become the default. Use new pull_obs/pull_var and push_obs/push_var methods for more flexibility.\n",
      "  self._update_attr(\"obs\", axis=1, join_common=join_common)\n"
     ]
    }
   ],
   "source": [
    "mdata.write_h5mu(\"../datasets/multiome/pbmc_rna_protein_P1P2.h5mu\")"
   ]
  },
  {
   "cell_type": "code",
   "execution_count": 7,
   "metadata": {},
   "outputs": [
    {
     "name": "stderr",
     "output_type": "stream",
     "text": [
      "/home/zyuan/.conda/envs/mamba/lib/python3.10/site-packages/mudata/_core/mudata.py:1531: FutureWarning: From 0.4 .update() will not pull obs/var columns from individual modalities by default anymore. Set mudata.set_options(pull_on_update=False) to adopt the new behaviour, which will become the default. Use new pull_obs/pull_var and push_obs/push_var methods for more flexibility.\n",
      "  self._update_attr(\"var\", axis=0, join_common=join_common)\n",
      "/home/zyuan/.conda/envs/mamba/lib/python3.10/site-packages/mudata/_core/mudata.py:931: UserWarning: Cannot join columns with the same name because var_names are intersecting.\n",
      "  warnings.warn(\n",
      "/home/zyuan/.conda/envs/mamba/lib/python3.10/site-packages/mudata/_core/mudata.py:1429: FutureWarning: From 0.4 .update() will not pull obs/var columns from individual modalities by default anymore. Set mudata.set_options(pull_on_update=False) to adopt the new behaviour, which will become the default. Use new pull_obs/pull_var and push_obs/push_var methods for more flexibility.\n",
      "  self._update_attr(\"obs\", axis=1, join_common=join_common)\n"
     ]
    },
    {
     "data": {
      "text/html": [
       "<pre>MuData object with n_obs × n_vars = 32515 × 20953\n",
       "  obs:\t&#x27;celltype.l1&#x27;, &#x27;celltype.l2&#x27;, &#x27;celltype.l3&#x27;, &#x27;donor&#x27;, &#x27;cell_type&#x27;\n",
       "  2 modalities\n",
       "    rna:\t32515 x 20729\n",
       "      obs:\t&#x27;nCount_ADT&#x27;, &#x27;nFeature_ADT&#x27;, &#x27;nCount_RNA&#x27;, &#x27;nFeature_RNA&#x27;, &#x27;orig.ident&#x27;, &#x27;lane&#x27;, &#x27;donor&#x27;, &#x27;time&#x27;, &#x27;celltype.l1&#x27;, &#x27;celltype.l2&#x27;, &#x27;celltype.l3&#x27;, &#x27;Phase&#x27;\n",
       "      var:\t&#x27;name&#x27;\n",
       "      obsm:\t&#x27;X_apca&#x27;, &#x27;X_aumap&#x27;, &#x27;X_pca&#x27;, &#x27;X_spca&#x27;, &#x27;X_umap&#x27;, &#x27;X_wnn.umap&#x27;\n",
       "    adt:\t32515 x 224\n",
       "      obs:\t&#x27;nCount_ADT&#x27;, &#x27;nFeature_ADT&#x27;, &#x27;nCount_RNA&#x27;, &#x27;nFeature_RNA&#x27;, &#x27;orig.ident&#x27;, &#x27;lane&#x27;, &#x27;donor&#x27;, &#x27;time&#x27;, &#x27;celltype.l1&#x27;, &#x27;celltype.l2&#x27;, &#x27;celltype.l3&#x27;, &#x27;Phase&#x27;\n",
       "      var:\t&#x27;name&#x27;\n",
       "      obsm:\t&#x27;X_apca&#x27;, &#x27;X_aumap&#x27;, &#x27;X_pca&#x27;, &#x27;X_spca&#x27;, &#x27;X_umap&#x27;, &#x27;X_wnn.umap&#x27;</pre>"
      ],
      "text/plain": [
       "MuData object with n_obs × n_vars = 32515 × 20953\n",
       "  obs:\t'celltype.l1', 'celltype.l2', 'celltype.l3', 'donor', 'cell_type'\n",
       "  2 modalities\n",
       "    rna:\t32515 x 20729\n",
       "      obs:\t'nCount_ADT', 'nFeature_ADT', 'nCount_RNA', 'nFeature_RNA', 'orig.ident', 'lane', 'donor', 'time', 'celltype.l1', 'celltype.l2', 'celltype.l3', 'Phase'\n",
       "      var:\t'name'\n",
       "      obsm:\t'X_apca', 'X_aumap', 'X_pca', 'X_spca', 'X_umap', 'X_wnn.umap'\n",
       "    adt:\t32515 x 224\n",
       "      obs:\t'nCount_ADT', 'nFeature_ADT', 'nCount_RNA', 'nFeature_RNA', 'orig.ident', 'lane', 'donor', 'time', 'celltype.l1', 'celltype.l2', 'celltype.l3', 'Phase'\n",
       "      var:\t'name'\n",
       "      obsm:\t'X_apca', 'X_aumap', 'X_pca', 'X_spca', 'X_umap', 'X_wnn.umap'"
      ]
     },
     "execution_count": 7,
     "metadata": {},
     "output_type": "execute_result"
    }
   ],
   "source": [
    "cell_type_counts = mdata.obs['cell_type'].value_counts()\n",
    "\n",
    "# 筛选出数量大于 1000 的 cell_type\n",
    "selected_cell_types = cell_type_counts[cell_type_counts > 500].index\n",
    "\n",
    "# 过滤 adata，只保留符合条件的 cell_type 数据\n",
    "mdata_filtered = mdata[mdata.obs['cell_type'].isin(selected_cell_types)].copy()\n",
    "mdata_filtered"
   ]
  },
  {
   "cell_type": "code",
   "execution_count": 8,
   "metadata": {},
   "outputs": [
    {
     "name": "stderr",
     "output_type": "stream",
     "text": [
      "/home/zyuan/.conda/envs/mamba/lib/python3.10/site-packages/mudata/_core/mudata.py:1531: FutureWarning: From 0.4 .update() will not pull obs/var columns from individual modalities by default anymore. Set mudata.set_options(pull_on_update=False) to adopt the new behaviour, which will become the default. Use new pull_obs/pull_var and push_obs/push_var methods for more flexibility.\n",
      "  self._update_attr(\"var\", axis=0, join_common=join_common)\n",
      "/home/zyuan/.conda/envs/mamba/lib/python3.10/site-packages/mudata/_core/mudata.py:1429: FutureWarning: From 0.4 .update() will not pull obs/var columns from individual modalities by default anymore. Set mudata.set_options(pull_on_update=False) to adopt the new behaviour, which will become the default. Use new pull_obs/pull_var and push_obs/push_var methods for more flexibility.\n",
      "  self._update_attr(\"obs\", axis=1, join_common=join_common)\n"
     ]
    }
   ],
   "source": [
    "mdata_filtered.write_h5mu(\"../datasets/multiome/pbmc_rna_protein_P1P2_500.h5mu\")"
   ]
  },
  {
   "cell_type": "code",
   "execution_count": null,
   "metadata": {},
   "outputs": [],
   "source": []
  }
 ],
 "metadata": {
  "kernelspec": {
   "display_name": "mamba",
   "language": "python",
   "name": "python3"
  },
  "language_info": {
   "codemirror_mode": {
    "name": "ipython",
    "version": 3
   },
   "file_extension": ".py",
   "mimetype": "text/x-python",
   "name": "python",
   "nbconvert_exporter": "python",
   "pygments_lexer": "ipython3",
   "version": "3.10.15"
  }
 },
 "nbformat": 4,
 "nbformat_minor": 2
}
